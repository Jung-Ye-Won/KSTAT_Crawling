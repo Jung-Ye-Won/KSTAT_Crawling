{
 "cells": [
  {
   "cell_type": "markdown",
   "metadata": {},
   "source": [
    "데이터베이스 내의 최신 값과 비교 후 없는 데이터만 파일로 서버에 저장하는 방식입니다."
   ]
  },
  {
   "cell_type": "code",
   "execution_count": 1,
   "metadata": {
    "ExecuteTime": {
     "end_time": "2021-02-22T06:43:48.846404Z",
     "start_time": "2021-02-22T06:43:47.662073Z"
    }
   },
   "outputs": [
    {
     "name": "stderr",
     "output_type": "stream",
     "text": [
      "C:\\Users\\JEONGY~2\\AppData\\Local\\Temp/ipykernel_29744/3249782889.py:34: DeprecationWarning: executable_path has been deprecated, please pass in a Service object\n",
      "  driver = webdriver.Chrome('C:/chrome/chromedriver', options=op)\n"
     ]
    }
   ],
   "source": [
    "## K-STAT 국가별 데이터 크롤링 - 수출데이터\n",
    "from selenium import webdriver\n",
    "import time\n",
    "from selenium.webdriver.support.select import Select\n",
    "from selenium.webdriver.support.ui import Select\n",
    "from selenium.webdriver.chrome.options import Options\n",
    "import os, warnings\n",
    "import pandas as pd\n",
    "import glob\n",
    "import numpy as np\n",
    "import pandas as pd\n",
    "from sqlalchemy import create_engine\n",
    "import pymysql\n",
    "from datetime import datetime, timedelta\n",
    "from bs4 import BeautifulSoup\n",
    "from os import path\n",
    "import shutil\n",
    "\n",
    "# MySQL Connector using pymysql\n",
    "pymysql.install_as_MySQLdb()\n",
    "import MySQLdb\n",
    "\n",
    "# 개발 서버\n",
    "conn= MySQLdb.connect(user='root', passwd='', host='', db='')\n",
    "cur=conn.cursor() \n",
    "\n",
    "op = Options()\n",
    "op.add_experimental_option('prefs',{'download.default_directory':r'C:\\Users\\jeongyewon\\Documents\\kstat_test'})\n",
    "\n",
    "driver = webdriver.Chrome('C:/chrome/chromedriver', options=op)"
   ]
  },
  {
   "cell_type": "code",
   "execution_count": 2,
   "metadata": {},
   "outputs": [],
   "source": [
    "cur.execute(\"SELECT SUBSTR(MAX(BASE_DATE),1,4) FROM KSTAT_ITEM_EXPORT;\")\n",
    "max_year = cur.fetchone()\n",
    "\n",
    "cur.execute(\"SELECT MAX(BASE_DATE) FROM KSTAT_ITEM_EXPORT;\")\n",
    "max_date = cur.fetchone()"
   ]
  },
  {
   "cell_type": "code",
   "execution_count": null,
   "metadata": {},
   "outputs": [],
   "source": [
    "# db에서 현재 보유한 date max 값을 조회 \n",
    "# 현재 날짜 조회\n",
    "# date max 값과 현재 날짜 사이의 값들을 크롤링 진행\n",
    "# 크롤링 후 파일을 저장하고, 저장된 파일의 경로를 이동한다.\n",
    "\n",
    "# 이동된 경로의 파일을 db 적재 (이는 ftp 업로드 방식과 동일하게 진행)"
   ]
  },
  {
   "cell_type": "code",
   "execution_count": 3,
   "metadata": {
    "ExecuteTime": {
     "end_time": "2021-02-22T06:43:54.404371Z",
     "start_time": "2021-02-22T06:43:48.862082Z"
    }
   },
   "outputs": [],
   "source": [
    "# k-stat 한국무역협회 접속\n",
    "driver.get('https://stat.kita.net/main.screen')"
   ]
  },
  {
   "cell_type": "code",
   "execution_count": 4,
   "metadata": {
    "ExecuteTime": {
     "end_time": "2021-02-22T06:43:55.721472Z",
     "start_time": "2021-02-22T06:43:54.406367Z"
    }
   },
   "outputs": [
    {
     "name": "stderr",
     "output_type": "stream",
     "text": [
      "C:\\Users\\JEONGY~2\\AppData\\Local\\Temp/ipykernel_29744/1245614441.py:2: DeprecationWarning: find_element_by_* commands are deprecated. Please use find_element() instead\n",
      "  driver.find_element_by_xpath('//*[@id=\"header\"]/div/div[2]/ul/li[2]/a').click()\n"
     ]
    }
   ],
   "source": [
    "#로그인 선택\n",
    "driver.find_element_by_xpath('//*[@id=\"header\"]/div/div[2]/ul/li[2]/a').click()\n",
    "driver.implicitly_wait(1)"
   ]
  },
  {
   "cell_type": "code",
   "execution_count": 5,
   "metadata": {
    "ExecuteTime": {
     "end_time": "2021-02-22T06:44:05.866390Z",
     "start_time": "2021-02-22T06:43:55.722470Z"
    }
   },
   "outputs": [
    {
     "name": "stderr",
     "output_type": "stream",
     "text": [
      "C:\\Users\\JEONGY~2\\AppData\\Local\\Temp/ipykernel_29744/1976247991.py:2: DeprecationWarning: find_element_by_* commands are deprecated. Please use find_element() instead\n",
      "  driver.find_element_by_xpath('//*[@id=\"userId\"]').send_keys(\"ulsan02\")\n",
      "C:\\Users\\JEONGY~2\\AppData\\Local\\Temp/ipykernel_29744/1976247991.py:3: DeprecationWarning: find_element_by_* commands are deprecated. Please use find_element() instead\n",
      "  driver.find_element_by_xpath('//*[@id=\"pwd\"]').send_keys(\"ckdwh6156\")\n",
      "C:\\Users\\JEONGY~2\\AppData\\Local\\Temp/ipykernel_29744/1976247991.py:4: DeprecationWarning: find_element_by_* commands are deprecated. Please use find_element() instead\n",
      "  driver.find_element_by_xpath('//*[@id=\"loginBtn\"]').click()\n"
     ]
    }
   ],
   "source": [
    "# id, pw 작성\n",
    "driver.find_element_by_xpath('//*[@id=\"userId\"]').send_keys(\"\")\n",
    "driver.find_element_by_xpath('//*[@id=\"pwd\"]').send_keys(\"\")\n",
    "driver.find_element_by_xpath('//*[@id=\"loginBtn\"]').click()\n",
    "# 로그인 되는 동안 다른 작업시 문제 발생, 10초간 대기\n",
    "time.sleep(10)"
   ]
  },
  {
   "cell_type": "code",
   "execution_count": 6,
   "metadata": {
    "ExecuteTime": {
     "end_time": "2021-02-22T06:44:06.921092Z",
     "start_time": "2021-02-22T06:44:05.872387Z"
    }
   },
   "outputs": [
    {
     "name": "stderr",
     "output_type": "stream",
     "text": [
      "C:\\Users\\JEONGY~2\\AppData\\Local\\Temp/ipykernel_29744/3929082813.py:5: DeprecationWarning: find_element_by_* commands are deprecated. Please use find_element() instead\n",
      "  driver.find_element_by_xpath('//*[@id=\"s_prod_code\"]').click()\n",
      "C:\\Users\\JEONGY~2\\AppData\\Local\\Temp/ipykernel_29744/3929082813.py:6: DeprecationWarning: find_element_by_* commands are deprecated. Please use find_element() instead\n",
      "  driver.find_element_by_xpath('//*[@id=\"s_prod_code\"]').clear()\n"
     ]
    }
   ],
   "source": [
    "# 국내통계 지자체 수출입 접속 / 클릭이 불가능해서 '지자체 수출입'-'품목별' 웹사이트 바로 접속\n",
    "driver.get(\"https://stat.kita.net/stat/kts/prod/ProdItemImpExpList.screen\")\n",
    "driver.implicitly_wait(1)\n",
    "\n",
    "driver.find_element_by_xpath('//*[@id=\"s_prod_code\"]').click()\n",
    "driver.find_element_by_xpath('//*[@id=\"s_prod_code\"]').clear()"
   ]
  },
  {
   "cell_type": "code",
   "execution_count": 7,
   "metadata": {},
   "outputs": [],
   "source": [
    "htmlsrc = driver.page_source\n",
    "\n",
    "bs = BeautifulSoup(htmlsrc, \"html.parser\")\n",
    "\n",
    "# <select> 태그 중 class 이름이 \"s_year\",\"s_month\"인 것 전부 찾기\n",
    "years = bs.find(\"select\", {\"name\" : \"s_year\"})\n",
    "months = bs.find(\"select\", {\"name\" : \"s_month\"})"
   ]
  },
  {
   "cell_type": "code",
   "execution_count": 8,
   "metadata": {},
   "outputs": [],
   "source": [
    "years = years.find_all('option')\n",
    "months = months.find_all('option')"
   ]
  },
  {
   "cell_type": "code",
   "execution_count": 9,
   "metadata": {},
   "outputs": [],
   "source": [
    "latest_date = years[0]['value']+months[len(months)-1]['value']"
   ]
  },
  {
   "cell_type": "code",
   "execution_count": 10,
   "metadata": {},
   "outputs": [
    {
     "name": "stderr",
     "output_type": "stream",
     "text": [
      "C:\\Users\\JEONGY~2\\AppData\\Local\\Temp/ipykernel_29744/1122943755.py:13: DeprecationWarning: find_element_by_* commands are deprecated. Please use find_element() instead\n",
      "  Select(driver.find_element_by_xpath('//*[@id=\"s_cond_gb\"]')).select_by_visible_text(str('MTI'))\n",
      "C:\\Users\\JEONGY~2\\AppData\\Local\\Temp/ipykernel_29744/1122943755.py:17: DeprecationWarning: find_element_by_* commands are deprecated. Please use find_element() instead\n",
      "  Select(driver.find_element_by_xpath('//*[@id=\"contents\"]/div[2]/form/fieldset/div[1]/div/select[2]')).select_by_visible_text(str('3단위'))\n",
      "C:\\Users\\JEONGY~2\\AppData\\Local\\Temp/ipykernel_29744/1122943755.py:21: DeprecationWarning: find_element_by_* commands are deprecated. Please use find_element() instead\n",
      "  Select(driver.find_element_by_xpath('//*[@id=\"contents\"]/div[2]/form/fieldset/div[2]/div[4]/select')).select_by_visible_text('당월')\n",
      "C:\\Users\\JEONGY~2\\AppData\\Local\\Temp/ipykernel_29744/1122943755.py:25: DeprecationWarning: find_element_by_* commands are deprecated. Please use find_element() instead\n",
      "  Select(driver.find_element_by_xpath('//*[@id=\"contents\"]/div[2]/form/fieldset/div[2]/div[5]/select')).select_by_visible_text('백만불, %')\n",
      "C:\\Users\\JEONGY~2\\AppData\\Local\\Temp/ipykernel_29744/1122943755.py:29: DeprecationWarning: find_element_by_* commands are deprecated. Please use find_element() instead\n",
      "  Select(driver.find_element_by_xpath('//*[@id=\"contents\"]/div[2]/form/fieldset/div[2]/div[6]/select')).select_by_visible_text('수입금액')\n",
      "C:\\Users\\JEONGY~2\\AppData\\Local\\Temp/ipykernel_29744/1122943755.py:35: DeprecationWarning: find_element_by_* commands are deprecated. Please use find_element() instead\n",
      "  driver.find_element_by_xpath('//*[@id=\"s_prod_code\"]').clear()\n",
      "C:\\Users\\JEONGY~2\\AppData\\Local\\Temp/ipykernel_29744/1122943755.py:37: DeprecationWarning: find_element_by_* commands are deprecated. Please use find_element() instead\n",
      "  driver.find_element_by_xpath('//*[@id=\"s_prod_code\"]').send_keys(us_code)\n",
      "C:\\Users\\JEONGY~2\\AppData\\Local\\Temp/ipykernel_29744/1122943755.py:41: DeprecationWarning: find_element_by_* commands are deprecated. Please use find_element() instead\n",
      "  Select(driver.find_element_by_xpath('//*[@id=\"contents\"]/div[2]/form/fieldset/div[2]/div[1]/select')).select_by_visible_text(str(year))\n",
      "C:\\Users\\JEONGY~2\\AppData\\Local\\Temp/ipykernel_29744/1122943755.py:52: DeprecationWarning: find_element_by_* commands are deprecated. Please use find_element() instead\n",
      "  Select(driver.find_element_by_xpath('//*[@id=\"contents\"]/div[2]/form/fieldset/div[2]/div[2]/select')).select_by_visible_text(str(month))\n",
      "C:\\Users\\JEONGY~2\\AppData\\Local\\Temp/ipykernel_29744/1122943755.py:56: DeprecationWarning: find_element_by_* commands are deprecated. Please use find_element() instead\n",
      "  Select(driver.find_element_by_xpath('//*[@id=\"contents\"]/div[2]/form/fieldset/div[2]/div[6]/select')).select_by_visible_text('수출금액')\n",
      "C:\\Users\\JEONGY~2\\AppData\\Local\\Temp/ipykernel_29744/1122943755.py:60: DeprecationWarning: find_element_by_* commands are deprecated. Please use find_element() instead\n",
      "  driver.find_element_by_xpath('//*[@id=\"contents\"]/div[2]/form/fieldset/div[3]/a').click()\n",
      "C:\\Users\\JEONGY~2\\AppData\\Local\\Temp/ipykernel_29744/1122943755.py:64: DeprecationWarning: find_element_by_* commands are deprecated. Please use find_element() instead\n",
      "  driver.find_element_by_xpath('//*[@id=\"contents\"]/div[2]/form/div[1]/div/a[1]').click()\n"
     ]
    }
   ],
   "source": [
    "# us_list : 다운받을 시도, 시군구 코드\n",
    "# year_list = 다운받을 년도\n",
    "# month_list = 다운받을 월\n",
    "\n",
    "us_list = [68]\n",
    "next_year = datetime.now()+timedelta(weeks=52)\n",
    "year_list = range(int(max_year[0]),int(next_year.strftime('%Y')))\n",
    "month_list = range(1,13)\n",
    "\n",
    "if int(latest_date) > max_date[0] :\n",
    "\n",
    "    #품목 단위 선택 - 'MTI'\n",
    "    Select(driver.find_element_by_xpath('//*[@id=\"s_cond_gb\"]')).select_by_visible_text(str('MTI'))\n",
    "    time.sleep(1)\n",
    "\n",
    "    #품목 단위수 선택 - '3단위'\n",
    "    Select(driver.find_element_by_xpath('//*[@id=\"contents\"]/div[2]/form/fieldset/div[1]/div/select[2]')).select_by_visible_text(str('3단위'))\n",
    "    time.sleep(1)\n",
    "\n",
    "    # 당월/누계 클릭 (당월)\n",
    "    Select(driver.find_element_by_xpath('//*[@id=\"contents\"]/div[2]/form/fieldset/div[2]/div[4]/select')).select_by_visible_text('당월')\n",
    "    time.sleep(1)\n",
    "\n",
    "    # 단위 클릭 (백만불, %)\n",
    "    Select(driver.find_element_by_xpath('//*[@id=\"contents\"]/div[2]/form/fieldset/div[2]/div[5]/select')).select_by_visible_text('백만불, %')\n",
    "    time.sleep(1)\n",
    "\n",
    "    # 정렬기준 클릭 (수출금액)\n",
    "    Select(driver.find_element_by_xpath('//*[@id=\"contents\"]/div[2]/form/fieldset/div[2]/div[6]/select')).select_by_visible_text('수출금액')\n",
    "    time.sleep(1)\n",
    "\n",
    "\n",
    "    for us_code in us_list:\n",
    "        # 시도 입력 초기화\n",
    "        driver.find_element_by_xpath('//*[@id=\"s_prod_code\"]').clear()\n",
    "        # 시도 입력\n",
    "        driver.find_element_by_xpath('//*[@id=\"s_prod_code\"]').send_keys(us_code)\n",
    "        \n",
    "        for year in year_list:\n",
    "            # select year클릭\n",
    "            Select(driver.find_element_by_xpath('//*[@id=\"contents\"]/div[2]/form/fieldset/div[2]/div[1]/select')).select_by_visible_text(str(year))\n",
    "            time.sleep(1)\n",
    "            \n",
    "            tmp = BeautifulSoup(htmlsrc, \"html.parser\")\n",
    "            tmp_months = tmp.find(\"select\", {\"name\" : \"s_month\"})\n",
    "            tmp_months = tmp_months.find_all('option')\n",
    "            \n",
    "            month_list = range(1,int(months[len(months)-1]['value'])+1)\n",
    "            \n",
    "            for month in month_list:\n",
    "                # select 월 클릭\n",
    "                Select(driver.find_element_by_xpath('//*[@id=\"contents\"]/div[2]/form/fieldset/div[2]/div[2]/select')).select_by_visible_text(str(month))\n",
    "                time.sleep(1)\n",
    "                \n",
    "                # 수출금액 클릭\n",
    "                Select(driver.find_element_by_xpath('//*[@id=\"contents\"]/div[2]/form/fieldset/div[2]/div[6]/select')).select_by_visible_text('수출금액')\n",
    "                time.sleep(1)\n",
    "\n",
    "                # 조회 클릭\n",
    "                driver.find_element_by_xpath('//*[@id=\"contents\"]/div[2]/form/fieldset/div[3]/a').click()\n",
    "                time.sleep(3)\n",
    "\n",
    "                # 엑셀 다운로드 클릭\n",
    "                driver.find_element_by_xpath('//*[@id=\"contents\"]/div[2]/form/div[1]/div/a[1]').click()\n",
    "else : \n",
    "    print('dont need to update')"
   ]
  },
  {
   "cell_type": "code",
   "execution_count": 11,
   "metadata": {},
   "outputs": [],
   "source": [
    "# 서버 내 경로 설정에 따라 값 수정필요\n",
    "\n",
    "file_path_dir = 'C:/Users/jeongyewon/Documents/kstat_test/'\n",
    "fin_path_dir = 'C:/Users/jeongyewon/Documents/kstat_test_fin/'\n",
    "\n",
    "kstat_path_dir = 'C:/Users/jeongyewon/Documents/kstat_test_fin/'"
   ]
  },
  {
   "cell_type": "code",
   "execution_count": 12,
   "metadata": {},
   "outputs": [],
   "source": [
    "if path.exists(file_path_dir) : \n",
    "    tot_data = pd.DataFrame()\n",
    "\n",
    "    for file in glob.glob(file_path_dir+'*.xls'): \n",
    "        df = pd.read_excel(file)\n",
    "        a = df.iat[0,0]\n",
    "        b = a[34:38]\n",
    "        c = a[40:42]\n",
    "        df = df.drop(index=[0,1])\n",
    "        df = df.rename(columns=df.iloc[0])\n",
    "        df.rename(columns={'순번':'BASE_DATE'}, inplace = True)\n",
    "        df = df.drop(index=[2])\n",
    "        df['BASE_DATE'] = b + c\n",
    "        tot_data = tot_data.append(df, ignore_index=True)\n",
    "        \n",
    "    tot_data.columns = ['BASE_DATE','ITEM_CD_MTI','ITEM_NM_MTI','1','2','3','4','5','EX_AMT','EX_AMT_RATE','IM_AMT','IM_AMT_RATE','PROFIT_AMT']\n",
    "    tot_data['REGION_NM'] = 'US'\n",
    "    tot_data = tot_data[['BASE_DATE','REGION_NM','ITEM_CD_MTI','ITEM_NM_MTI','EX_AMT','EX_AMT_RATE','IM_AMT','IM_AMT_RATE','PROFIT_AMT']]\n",
    "    \n",
    "    tot_data['BASE_YEAR'] = tot_data['BASE_DATE'].str[0:4]\n",
    "    tot_data['BASE_MONTH'] = tot_data['BASE_DATE'].str[4:]\n",
    "    \n",
    "    tot_data['BASE_MONTH'] = np.where(tot_data['BASE_MONTH'] == '1월','01',tot_data['BASE_MONTH'])\n",
    "    tot_data['BASE_MONTH'] = np.where(tot_data['BASE_MONTH'] == '2월','02',tot_data['BASE_MONTH'])\n",
    "    tot_data['BASE_MONTH'] = np.where(tot_data['BASE_MONTH'] == '3월','03',tot_data['BASE_MONTH'])\n",
    "    tot_data['BASE_MONTH'] = np.where(tot_data['BASE_MONTH'] == '4월','04',tot_data['BASE_MONTH'])\n",
    "    tot_data['BASE_MONTH'] = np.where(tot_data['BASE_MONTH'] == '5월','05',tot_data['BASE_MONTH'])\n",
    "    tot_data['BASE_MONTH'] = np.where(tot_data['BASE_MONTH'] == '6월','06',tot_data['BASE_MONTH'])\n",
    "    tot_data['BASE_MONTH'] = np.where(tot_data['BASE_MONTH'] == '7월','07',tot_data['BASE_MONTH'])\n",
    "    tot_data['BASE_MONTH'] = np.where(tot_data['BASE_MONTH'] == '8월','08',tot_data['BASE_MONTH'])\n",
    "    tot_data['BASE_MONTH'] = np.where(tot_data['BASE_MONTH'] == '9월','09',tot_data['BASE_MONTH'])\n",
    "    \n",
    "    tot_data['BASE_DATE'] = tot_data['BASE_YEAR'].map(str)+tot_data['BASE_MONTH']\n",
    "    tot_data['BASE_DATE'] = tot_data['BASE_DATE'].astype(int)\n",
    "    tot_data = tot_data[tot_data.BASE_DATE > max_date[0]]\n",
    "    \n",
    "    tot_data = tot_data.drop(['BASE_YEAR','BASE_MONTH'], axis='columns')\n",
    "    \n",
    "    tot_data = tot_data.sort_values(by=['BASE_DATE'], ascending=[True])\n",
    "    tot_data = tot_data.reset_index(drop=True)\n",
    "    \n",
    "    tot_data.to_csv(kstat_path_dir+'KSTAT_ITEM_EXPORT.csv', index=False, encoding='euc-kr')"
   ]
  },
  {
   "cell_type": "code",
   "execution_count": 13,
   "metadata": {},
   "outputs": [],
   "source": [
    "file_list = os.listdir(file_path_dir)\n",
    "file_list_xls = [file for file in file_list if file.endswith('.xls')]\n",
    "\n",
    "for i in range(len(file_list_xls)):\n",
    "    shutil.move(file_path_dir+file_list_xls[i], fin_path_dir+file_list_xls[i])"
   ]
  },
  {
   "cell_type": "code",
   "execution_count": 14,
   "metadata": {},
   "outputs": [],
   "source": [
    "conn.close()"
   ]
  },
  {
   "cell_type": "code",
   "execution_count": null,
   "metadata": {},
   "outputs": [],
   "source": []
  }
 ],
 "metadata": {
  "kernelspec": {
   "display_name": "Python 3 (ipykernel)",
   "language": "python",
   "name": "python3"
  },
  "language_info": {
   "codemirror_mode": {
    "name": "ipython",
    "version": 3
   },
   "file_extension": ".py",
   "mimetype": "text/x-python",
   "name": "python",
   "nbconvert_exporter": "python",
   "pygments_lexer": "ipython3",
   "version": "3.9.13"
  },
  "toc": {
   "base_numbering": 1,
   "nav_menu": {},
   "number_sections": true,
   "sideBar": true,
   "skip_h1_title": false,
   "title_cell": "Table of Contents",
   "title_sidebar": "Contents",
   "toc_cell": false,
   "toc_position": {
    "height": "calc(100% - 180px)",
    "left": "10px",
    "top": "150px",
    "width": "165px"
   },
   "toc_section_display": true,
   "toc_window_display": true
  }
 },
 "nbformat": 4,
 "nbformat_minor": 4
}
